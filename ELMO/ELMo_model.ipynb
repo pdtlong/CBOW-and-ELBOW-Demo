{
 "cells": [
  {
   "cell_type": "code",
   "execution_count": 1,
   "metadata": {},
   "outputs": [],
   "source": [
    "from elmoformanylangs import Embedder"
   ]
  },
  {
   "cell_type": "code",
   "execution_count": 7,
   "metadata": {},
   "outputs": [
    {
     "name": "stderr",
     "output_type": "stream",
     "text": [
      "2020-06-19 12:32:57,439 INFO: char embedding size: 3920\n",
      "2020-06-19 12:32:57,934 INFO: word embedding size: 88497\n",
      "2020-06-19 12:33:04,985 INFO: Model(\n",
      "  (token_embedder): ConvTokenEmbedder(\n",
      "    (word_emb_layer): EmbeddingLayer(\n",
      "      (embedding): Embedding(88497, 100, padding_idx=3)\n",
      "    )\n",
      "    (char_emb_layer): EmbeddingLayer(\n",
      "      (embedding): Embedding(3920, 50, padding_idx=3917)\n",
      "    )\n",
      "    (convolutions): ModuleList(\n",
      "      (0): Conv1d(50, 32, kernel_size=(1,), stride=(1,))\n",
      "      (1): Conv1d(50, 32, kernel_size=(2,), stride=(1,))\n",
      "      (2): Conv1d(50, 64, kernel_size=(3,), stride=(1,))\n",
      "      (3): Conv1d(50, 128, kernel_size=(4,), stride=(1,))\n",
      "      (4): Conv1d(50, 256, kernel_size=(5,), stride=(1,))\n",
      "      (5): Conv1d(50, 512, kernel_size=(6,), stride=(1,))\n",
      "      (6): Conv1d(50, 1024, kernel_size=(7,), stride=(1,))\n",
      "    )\n",
      "    (highways): Highway(\n",
      "      (_layers): ModuleList(\n",
      "        (0): Linear(in_features=2048, out_features=4096, bias=True)\n",
      "        (1): Linear(in_features=2048, out_features=4096, bias=True)\n",
      "      )\n",
      "    )\n",
      "    (projection): Linear(in_features=2148, out_features=512, bias=True)\n",
      "  )\n",
      "  (encoder): ElmobiLm(\n",
      "    (forward_layer_0): LstmCellWithProjection(\n",
      "      (input_linearity): Linear(in_features=512, out_features=16384, bias=False)\n",
      "      (state_linearity): Linear(in_features=512, out_features=16384, bias=True)\n",
      "      (state_projection): Linear(in_features=4096, out_features=512, bias=False)\n",
      "    )\n",
      "    (backward_layer_0): LstmCellWithProjection(\n",
      "      (input_linearity): Linear(in_features=512, out_features=16384, bias=False)\n",
      "      (state_linearity): Linear(in_features=512, out_features=16384, bias=True)\n",
      "      (state_projection): Linear(in_features=4096, out_features=512, bias=False)\n",
      "    )\n",
      "    (forward_layer_1): LstmCellWithProjection(\n",
      "      (input_linearity): Linear(in_features=512, out_features=16384, bias=False)\n",
      "      (state_linearity): Linear(in_features=512, out_features=16384, bias=True)\n",
      "      (state_projection): Linear(in_features=4096, out_features=512, bias=False)\n",
      "    )\n",
      "    (backward_layer_1): LstmCellWithProjection(\n",
      "      (input_linearity): Linear(in_features=512, out_features=16384, bias=False)\n",
      "      (state_linearity): Linear(in_features=512, out_features=16384, bias=True)\n",
      "      (state_projection): Linear(in_features=4096, out_features=512, bias=False)\n",
      "    )\n",
      "  )\n",
      ")\n"
     ]
    }
   ],
   "source": [
    "e = Embedder('C:/Jupyter_workplace/NLP_2020_Grad/ELMo/178')"
   ]
  },
  {
   "cell_type": "code",
   "execution_count": 8,
   "metadata": {},
   "outputs": [
    {
     "name": "stderr",
     "output_type": "stream",
     "text": [
      "2020-06-19 12:56:07,742 INFO: 1 batches, avg len: 17.0\n"
     ]
    },
    {
     "data": {
      "text/plain": [
       "[array([[-0.25077364,  0.14629155,  0.17534757, ..., -0.290024  ,\n",
       "         -0.19944787, -0.25760725],\n",
       "        [-0.33682752,  0.29220048, -0.05338062, ...,  0.22661926,\n",
       "          0.177624  , -0.00293347],\n",
       "        [-0.2606792 ,  0.09794063,  0.09376043, ...,  0.19465692,\n",
       "          0.09995764, -0.07404479],\n",
       "        ...,\n",
       "        [-0.2672753 ,  0.1027129 , -0.15548119, ...,  0.24153216,\n",
       "          0.00776582,  0.21842487],\n",
       "        [-0.16908847,  0.1951892 , -0.39924994, ...,  0.24517989,\n",
       "         -0.11943442, -0.05198925],\n",
       "        [-0.1328716 ,  0.20875533, -0.4229971 , ...,  0.47581747,\n",
       "         -0.06550867, -0.27659628]], dtype=float32),\n",
       " array([[-0.24852903,  0.41781095, -0.2496901 , ..., -0.02144901,\n",
       "          0.14903277, -0.1597055 ],\n",
       "        [-0.26929775,  0.13917361,  0.03140555, ...,  0.18430664,\n",
       "          0.12248232, -0.3562115 ],\n",
       "        [-0.1969663 ,  0.12221571, -0.09950619, ...,  0.18945275,\n",
       "          0.06805054, -0.16389324],\n",
       "        ...,\n",
       "        [-0.08891737,  0.26082698,  0.1195415 , ...,  0.2450694 ,\n",
       "          0.03936249, -0.41127977],\n",
       "        [-0.23533393,  0.13550487, -0.16368006, ..., -0.3300428 ,\n",
       "         -0.09231059, -0.09830793],\n",
       "        [-0.13475248,  0.13354938,  0.23170577, ...,  0.1682682 ,\n",
       "          0.15989159, -0.19115967]], dtype=float32)]"
      ]
     },
     "execution_count": 8,
     "metadata": {},
     "output_type": "execute_result"
    }
   ],
   "source": [
    "e.sents2elmo([\"Hôm nay ăn gì?\",\"dự báo thời tiết\"])"
   ]
  },
  {
   "cell_type": "code",
   "execution_count": null,
   "metadata": {},
   "outputs": [],
   "source": []
  }
 ],
 "metadata": {
  "kernelspec": {
   "display_name": "Python 3",
   "language": "python",
   "name": "python3"
  },
  "language_info": {
   "codemirror_mode": {
    "name": "ipython",
    "version": 3
   },
   "file_extension": ".py",
   "mimetype": "text/x-python",
   "name": "python",
   "nbconvert_exporter": "python",
   "pygments_lexer": "ipython3",
   "version": "3.7.6"
  }
 },
 "nbformat": 4,
 "nbformat_minor": 4
}
